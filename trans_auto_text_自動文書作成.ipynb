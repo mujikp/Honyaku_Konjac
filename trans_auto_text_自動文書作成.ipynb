{
  "nbformat": 4,
  "nbformat_minor": 0,
  "metadata": {
    "colab": {
      "private_outputs": true,
      "provenance": [],
      "authorship_tag": "ABX9TyMwnO9FeBpNJJZJnpbaoPqh",
      "include_colab_link": true
    },
    "kernelspec": {
      "name": "python3",
      "display_name": "Python 3"
    },
    "language_info": {
      "name": "python"
    }
  },
  "cells": [
    {
      "cell_type": "markdown",
      "metadata": {
        "id": "view-in-github",
        "colab_type": "text"
      },
      "source": [
        "<a href=\"https://colab.research.google.com/github/mujikp/Honyaku_Konjac/blob/main/trans_auto_text_%E8%87%AA%E5%8B%95%E6%96%87%E6%9B%B8%E4%BD%9C%E6%88%90.ipynb\" target=\"_parent\"><img src=\"https://colab.research.google.com/assets/colab-badge.svg\" alt=\"Open In Colab\"/></a>"
      ]
    },
    {
      "cell_type": "code",
      "execution_count": null,
      "metadata": {
        "id": "Gs8f2HA0NPOO"
      },
      "outputs": [],
      "source": [
        "!pip install googletrans==4.0.0rc1"
      ]
    },
    {
      "cell_type": "code",
      "source": [
        "pip list | grep googletrans"
      ],
      "metadata": {
        "id": "zDi-cgRVPJo_"
      },
      "execution_count": null,
      "outputs": []
    },
    {
      "cell_type": "code",
      "source": [
        "import googletrans  \n",
        "from googletrans import Translator"
      ],
      "metadata": {
        "id": "Y5NnkDccNaka"
      },
      "execution_count": null,
      "outputs": []
    },
    {
      "cell_type": "code",
      "source": [
        "translator = Translator()\n",
        "\n",
        "text = 'Answer to the Ultimate Question of Life, the Universe, and Everything'\n",
        "\n",
        "lang = translator.detect(text).lang\n",
        "print('言語判定',lang)\n",
        "\n",
        "translated  = translator.translate(text,dest='ja')\n",
        "print('翻訳結果',translated.text)"
      ],
      "metadata": {
        "id": "-_yswcc4Nc_F"
      },
      "execution_count": null,
      "outputs": []
    }
  ]
}